{
 "cells": [
  {
   "cell_type": "markdown",
   "id": "hearing-simon",
   "metadata": {},
   "source": [
    "# Warm-starting quantum optimization\n",
    "\n",
    "## Introduction\n",
    "\n",
    "Optimization problems with integer variables or constraints are often hard to solve. For example, the Quadratic Unconstrained Binary Optimization (QUBO) problem, i.e.\n",
    "\n",
    "\\begin{align}\n",
    "\\min_{x\\in\\{0,1\\}^n}x^T\\Sigma x + \\mu^Tx,\n",
    "\\end{align}\n",
    "\n",
    "is NP-Hard. Here, $\\Sigma$ is an $n\\times n$ matrix and $x$ is a vector of $n$ binary variables. Note that we could have added the linear term $\\mu$ to the diagonal as $x_i^2=x_i$ for $x_i\\in\\{0, 1\\}$. While QUBOs are hard to solve there exists many ways to relax them to problems that are easier to solve.\n",
    "For example, if $\\Sigma$ is semi-definite positive the QUBO can be relaxed and results in a convex Quadratic Program \n",
    "\n",
    "\\begin{align}\n",
    "\\min_{x\\in[0,1]^n}x^T\\Sigma x,\n",
    "\\end{align}\n",
    "\n",
    "which becomes easy to solve as $x$ now represents $n$ continuous variables bound to the range $[0, 1]$.\n",
    "Such relaxations can be leveraged to warm-start quantum optimization algorithms as shown in [1].\n",
    "\n",
    "## References\n",
    "\n",
    "[1] [D. J. Egger, J Marecek, S. Woerner, *Warm-starting quantum optimization*, arXiv:2009.10095](http://arxiv.org/abs/2009.10095)"
   ]
  },
  {
   "cell_type": "code",
   "execution_count": 385,
   "id": "engaging-agreement",
   "metadata": {},
   "outputs": [],
   "source": [
    "from typing import List, Tuple\n",
    "from enum import Enum\n",
    "import numpy as np\n",
    "import copy\n",
    "\n",
    "# Problem modelling imports\n",
    "from docplex.mp.model import Model\n",
    "\n",
    "# Qiskit imports\n",
    "from qiskit import BasicAer\n",
    "from qiskit.utils import QuantumInstance\n",
    "from qiskit.algorithms import QAOA, NumPyMinimumEigensolver\n",
    "from qiskit.utils.algorithm_globals import algorithm_globals\n",
    "from qiskit_optimization.algorithms import MinimumEigenOptimizer, CplexOptimizer, SolutionSample, OptimizationResultStatus\n",
    "from qiskit_optimization import QuadraticProgram\n",
    "from qiskit_optimization.problems.variable import VarType\n",
    "from qiskit_optimization.converters.quadratic_program_to_qubo import QuadraticProgramToQubo\n",
    "from qiskit.visualization import plot_histogram"
   ]
  },
  {
   "cell_type": "markdown",
   "id": "regional-weekly",
   "metadata": {},
   "source": [
    "## Preliminaries: relaxing QUBOs\n",
    "\n",
    "First, we show how to relax a QUBO built with a semi-definite positive matrix to obtain an easy-to-solve QP."
   ]
  },
  {
   "cell_type": "code",
   "execution_count": 386,
   "id": "southwest-stake",
   "metadata": {},
   "outputs": [],
   "source": [
    "def create_problem(mu: np.array, sigma: np.array, total: int = 3) -> QuadraticProgram:\n",
    "    \"\"\" Solve the quadratic program using docplex. \"\"\"\n",
    "    \n",
    "    mdl = Model()\n",
    "    x = [mdl.binary_var('x%s' % i) for i in range(len(sigma))]\n",
    "    \n",
    "    objective = mdl.sum([mu[i]*x[i] for i in range(len(mu))])\n",
    "    objective -= 2*mdl.sum([sigma[i, j]*x[i]*x[j] for i in range(len(mu)) for j in range(len(mu))])\n",
    "    mdl.maximize(objective)\n",
    "    cost = mdl.sum(x)\n",
    "    mdl.add_constraint(cost == total)\n",
    "    \n",
    "    qp = QuadraticProgram()\n",
    "    qp.from_docplex(mdl)\n",
    "    \n",
    "    return qp\n",
    "\n",
    "def relax_problem(problem) -> QuadraticProgram:\n",
    "    \"\"\"Change all variables to continuous.\"\"\"\n",
    "    relaxed_problem = copy.deepcopy(problem)\n",
    "    for variable in relaxed_problem.variables:\n",
    "        variable.vartype = VarType.CONTINUOUS\n",
    "\n",
    "    return relaxed_problem"
   ]
  },
  {
   "cell_type": "markdown",
   "id": "medieval-product",
   "metadata": {},
   "source": [
    "For this example, we use a positive semi-definite matrix $\\Sigma$ and a linear term $\\mu$ as defined below."
   ]
  },
  {
   "cell_type": "code",
   "execution_count": 387,
   "id": "laden-number",
   "metadata": {},
   "outputs": [],
   "source": [
    "mu = np.array([3.418,  2.0913,  6.2415,  4.4436, 10.892 ,  3.4051])\n",
    "sigma = np.array([[ 1.07978412,  0.00768914,  0.11227606, -0.06842969, -0.01016793, -0.00839765],\n",
    "                  [ 0.00768914,  0.10922887, -0.03043424, -0.0020045 ,  0.00670929, 0.0147937 ],\n",
    "                  [ 0.11227606, -0.03043424,  0.985353  ,  0.02307313, -0.05249785, 0.00904119],\n",
    "                  [-0.06842969, -0.0020045 ,  0.02307313,  0.6043817 ,  0.03740115, -0.00945322],\n",
    "                  [-0.01016793,  0.00670929, -0.05249785,  0.03740115,  0.79839634, 0.07616951],\n",
    "                  [-0.00839765,  0.0147937 ,  0.00904119, -0.00945322,  0.07616951, 1.08464544]])"
   ]
  },
  {
   "cell_type": "markdown",
   "id": "aging-fortune",
   "metadata": {},
   "source": [
    "Using DOCPLEX we build a model with binary variables."
   ]
  },
  {
   "cell_type": "code",
   "execution_count": 388,
   "id": "supreme-wallace",
   "metadata": {},
   "outputs": [
    {
     "data": {
      "text/plain": "\\ This file has been generated by DOcplex\n\\ ENCODING=ISO-8859-1\n\\Problem name: docplex_model17\n\nMaximize\n obj: 3.418000000000 x0 + 2.091300000000 x1 + 6.241500000000 x2\n      + 4.443600000000 x3 + 10.892000000000 x4 + 3.405100000000 x5 + [\n      - 4.319136480000 x0^2 - 0.061513120000 x0*x1 - 0.898208480000 x0*x2\n      + 0.547437520000 x0*x3 + 0.081343440000 x0*x4 + 0.067181200000 x0*x5\n      - 0.436915480000 x1^2 + 0.243473920000 x1*x2 + 0.016036000000 x1*x3\n      - 0.053674320000 x1*x4 - 0.118349600000 x1*x5 - 3.941412000000 x2^2\n      - 0.184585040000 x2*x3 + 0.419982800000 x2*x4 - 0.072329520000 x2*x5\n      - 2.417526800000 x3^2 - 0.299209200000 x3*x4 + 0.075625760000 x3*x5\n      - 3.193585360000 x4^2 - 0.609356080000 x4*x5 - 4.338581760000 x5^2 ]/2\nSubject To\n c0: x0 + x1 + x2 + x3 + x4 + x5 = 3\n\nBounds\n 0 <= x0 <= 1\n 0 <= x1 <= 1\n 0 <= x2 <= 1\n 0 <= x3 <= 1\n 0 <= x4 <= 1\n 0 <= x5 <= 1\n\nBinaries\n x0 x1 x2 x3 x4 x5\nEnd"
     },
     "execution_count": 388,
     "metadata": {},
     "output_type": "execute_result"
    }
   ],
   "source": [
    "qubo = create_problem(mu, sigma)\n",
    "qubo"
   ]
  },
  {
   "cell_type": "markdown",
   "id": "timely-sally",
   "metadata": {},
   "source": [
    "Such binary problems are hard to deal with but can be solved if the problem instance is small enough. Our example above has as solution"
   ]
  },
  {
   "cell_type": "code",
   "execution_count": 389,
   "id": "contrary-bumper",
   "metadata": {},
   "outputs": [
    {
     "data": {
      "text/plain": "optimal function value: 16.7689322\noptimal value: [0. 0. 1. 1. 1. 0.]\nstatus: SUCCESS"
     },
     "execution_count": 389,
     "metadata": {},
     "output_type": "execute_result"
    }
   ],
   "source": [
    "CplexOptimizer().solve(qubo)"
   ]
  },
  {
   "cell_type": "markdown",
   "id": "established-stretch",
   "metadata": {},
   "source": [
    "We can create a relaxation of this problem in which the variables are no longer binary. Note that we use the `QuadraticProgramToQubo` converter to convert the constraint into a quadratic penalty term. We do this to remain consistent with the steps that the Qiskit optimization module applies internally. "
   ]
  },
  {
   "cell_type": "code",
   "execution_count": 390,
   "id": "spectacular-african",
   "metadata": {},
   "outputs": [
    {
     "data": {
      "text/plain": "\\ This file has been generated by DOcplex\n\\ ENCODING=ISO-8859-1\n\\Problem name: docplex_model17\n\nMaximize\n obj: 259.553391640000 x0 + 258.226691640000 x1 + 262.376891640000 x2\n      + 260.578991640000 x3 + 267.027391640000 x4 + 259.540491640000 x5 + [\n      - 89.697600360000 x0^2 - 170.818440880000 x0*x1 - 171.655136240000 x0*x2\n      - 170.209490240000 x0*x3 - 170.675584320000 x0*x4 - 170.689746560000 x0*x5\n      - 85.815379360000 x1^2 - 170.513453840000 x1*x2 - 170.740891760000 x1*x3\n      - 170.810602080000 x1*x4 - 170.875277360000 x1*x5 - 89.319875880000 x2^2\n      - 170.941512800000 x2*x3 - 170.336944960000 x2*x4 - 170.829257280000 x2*x5\n      - 87.795990680000 x3^2 - 171.056136960000 x3*x4 - 170.681302000000 x3*x5\n      - 88.572049240000 x4^2 - 171.366283840000 x4*x5 - 89.717045640000 x5^2 ]/2\n      -384.203087460000\nSubject To\n\nBounds\n       x0 <= 1\n       x1 <= 1\n       x2 <= 1\n       x3 <= 1\n       x4 <= 1\n       x5 <= 1\nEnd"
     },
     "execution_count": 390,
     "metadata": {},
     "output_type": "execute_result"
    }
   ],
   "source": [
    "qp = relax_problem(QuadraticProgramToQubo().convert(qubo))\n",
    "qp"
   ]
  },
  {
   "cell_type": "markdown",
   "id": "absolute-creativity",
   "metadata": {},
   "source": [
    "The solution of this continuous relaxation is different from the solution to the binary problem but can be used to warm-start a solver when dealing with the binary problem."
   ]
  },
  {
   "cell_type": "code",
   "execution_count": 391,
   "id": "moderate-photograph",
   "metadata": {},
   "outputs": [
    {
     "data": {
      "text/plain": "optimal function value: 17.01205502568274\noptimal value: [1.75249958e-01 1.48038882e-07 9.70905326e-01 7.38416868e-01\n 9.99999992e-01 1.44389045e-01]\nstatus: SUCCESS"
     },
     "execution_count": 391,
     "metadata": {},
     "output_type": "execute_result"
    }
   ],
   "source": [
    "sol = CplexOptimizer().solve(qp)\n",
    "sol"
   ]
  },
  {
   "cell_type": "code",
   "execution_count": 392,
   "id": "smoking-discretion",
   "metadata": {},
   "outputs": [
    {
     "data": {
      "text/plain": "[0.17524995761801201,\n 1.4803888163984595e-07,\n 0.9709053264087679,\n 0.7384168677494151,\n 0.9999999916475085,\n 0.14438904470168346]"
     },
     "execution_count": 392,
     "metadata": {},
     "output_type": "execute_result"
    }
   ],
   "source": [
    "c_stars = sol.samples[0].x\n",
    "c_stars"
   ]
  },
  {
   "cell_type": "markdown",
   "id": "portuguese-profit",
   "metadata": {},
   "source": [
    "## QAOA\n",
    "\n",
    "Here, we illustrate how to warm-start the quantum approximate optimization algorithm (QAOA) by leveraging the relaxed problem shown above. \n",
    "\n",
    "### Standard QAOA\n",
    "\n",
    "First, we use standard QAOA to solve the QUBO. To do this, we convert the QUBO to Qiskit's QuadraticProgram class (note that the resulting problem is still a binary problem)."
   ]
  },
  {
   "cell_type": "code",
   "execution_count": 393,
   "id": "recreational-packing",
   "metadata": {},
   "outputs": [],
   "source": [
    "algorithm_globals.random_seed = 12345\n",
    "quantum_instance = QuantumInstance(BasicAer.get_backend('statevector_simulator'),\n",
    "                                   seed_simulator=algorithm_globals.random_seed,\n",
    "                                   seed_transpiler=algorithm_globals.random_seed)\n",
    "qaoa_mes = QAOA(quantum_instance=quantum_instance, initial_point=[0., 1.])\n",
    "exact_mes = NumPyMinimumEigensolver()"
   ]
  },
  {
   "cell_type": "code",
   "execution_count": 394,
   "id": "pursuant-pendant",
   "metadata": {},
   "outputs": [],
   "source": [
    "qaoa = MinimumEigenOptimizer(qaoa_mes)"
   ]
  },
  {
   "cell_type": "code",
   "execution_count": 395,
   "id": "painful-packing",
   "metadata": {},
   "outputs": [
    {
     "name": "stdout",
     "output_type": "stream",
     "text": [
      "optimal function value: 16.768932200000002\n",
      "optimal value: [0. 0. 1. 1. 1. 0.]\n",
      "status: SUCCESS\n"
     ]
    }
   ],
   "source": [
    "qaoa_result = qaoa.solve(qubo)\n",
    "print(qaoa_result)"
   ]
  },
  {
   "cell_type": "markdown",
   "id": "arctic-wealth",
   "metadata": {},
   "source": [
    "### Warm-start QAOA\n",
    "\n",
    "Next, we compare this result to a warm-start QAOA in which we use the solution to the continuous relaxation of the problem. First, we create the initial state \n",
    "\n",
    "\\begin{align}\n",
    "|\\phi^*\\rangle=\\bigotimes_{i=0}^{n-1}R_y(\\theta_i)|0\\rangle_n .\n",
    "\\end{align}\n",
    "\n",
    "which is given by applying $R_y$ rotations with an angle $\\theta=2\\arcsin(\\sqrt{c^*_i})$ that depends on the solution to the relaxed problem.\n",
    "Here, $c^*_i$ the value of variable $i$ of the relaxed problem."
   ]
  },
  {
   "cell_type": "code",
   "execution_count": 396,
   "id": "controversial-model",
   "metadata": {},
   "outputs": [
    {
     "data": {
      "text/plain": "<Figure size 146.797x385.28 with 1 Axes>",
      "image/png": "[encoded data removed]"
     },
     "execution_count": 396,
     "metadata": {},
     "output_type": "execute_result"
    }
   ],
   "source": [
    "from qiskit import QuantumCircuit\n",
    "\n",
    "thetas = [2*np.arcsin(np.sqrt(c_star)) for c_star in c_stars]\n",
    "\n",
    "init_qc = QuantumCircuit(len(sigma))\n",
    "for idx, theta in enumerate(thetas):\n",
    "    init_qc.ry(theta, idx)\n",
    "    \n",
    "init_qc.draw(output='mpl')"
   ]
  },
  {
   "cell_type": "markdown",
   "id": "tropical-armstrong",
   "metadata": {},
   "source": [
    "Next, we create the mixer operator for QAOA. When warm-starting QAOA we must ensure that the mixer operator has the initial state as ground state. We therefore chose the Hamiltonian\n",
    "\n",
    "\\begin{align}\n",
    "H_{M,i}^{(ws)}=\n",
    "\\begin{pmatrix}\n",
    "2c_i^*-1 & -2\\sqrt{c_i^*(1-c_i^*)} \\\\\n",
    "-2\\sqrt{c_i^*(1-c_i^*)} & 1-2c_i^*\n",
    "\\end{pmatrix}\n",
    "\\end{align}\n",
    "\n",
    "as mixer operator for qubit $i$. Once multiplied by $-i\\beta$ and exponentiated this mixer produces the following mixer circuit."
   ]
  },
  {
   "cell_type": "code",
   "execution_count": 397,
   "id": "pacific-destiny",
   "metadata": {},
   "outputs": [
    {
     "data": {
      "text/plain": "<Figure size 327.397x385.28 with 1 Axes>",
      "image/png": "[encoded data removed]"
     },
     "execution_count": 397,
     "metadata": {},
     "output_type": "execute_result"
    }
   ],
   "source": [
    "from qiskit.circuit import Parameter\n",
    "\n",
    "beta = Parameter('β')\n",
    "\n",
    "ws_mixer = QuantumCircuit(len(sigma))\n",
    "for idx, theta in enumerate(thetas):\n",
    "    ws_mixer.ry(-theta, idx)\n",
    "    ws_mixer.rz(-2*beta, idx)\n",
    "    ws_mixer.ry(theta, idx)\n",
    "    \n",
    "ws_mixer.draw(output='mpl')"
   ]
  },
  {
   "cell_type": "markdown",
   "id": "requested-cooking",
   "metadata": {},
   "source": [
    "The initial state and mixer operator can then be passed to QAOA."
   ]
  },
  {
   "cell_type": "code",
   "execution_count": 398,
   "id": "settled-mistress",
   "metadata": {},
   "outputs": [],
   "source": [
    "ws_qaoa_mes = QAOA(quantum_instance=quantum_instance, \n",
    "                   initial_state=init_qc, \n",
    "                   mixer=ws_mixer,\n",
    "                   initial_point=[0., 1.])"
   ]
  },
  {
   "cell_type": "code",
   "execution_count": 399,
   "id": "wrapped-alberta",
   "metadata": {},
   "outputs": [],
   "source": [
    "ws_qaoa = MinimumEigenOptimizer(ws_qaoa_mes)"
   ]
  },
  {
   "cell_type": "code",
   "execution_count": 400,
   "id": "aerial-parcel",
   "metadata": {},
   "outputs": [
    {
     "name": "stdout",
     "output_type": "stream",
     "text": [
      "optimal function value: 16.768932200000002\n",
      "optimal value: [0. 0. 1. 1. 1. 0.]\n",
      "status: SUCCESS\n"
     ]
    }
   ],
   "source": [
    "ws_qaoa_result = ws_qaoa.solve(qubo)\n",
    "print(ws_qaoa_result)"
   ]
  },
  {
   "cell_type": "markdown",
   "id": "armed-chinese",
   "metadata": {},
   "source": [
    "### Analysis\n",
    "Objects of type `SolutionSample` (here denoted as *samples*) are a useful information source provided\n",
    "by `OptimizationResult` objects. They contain information about input values `x`, corresponding (optimized) function\n",
    "values `fval`, probability of obtaining that result `probability` and the solution status `status` (`SUCCESS`,\n",
    "`FAILURE`, `INFEASIBLE`).\n",
    "\n",
    "They can be easily printed out in a better-readable format."
   ]
  },
  {
   "cell_type": "code",
   "execution_count": 401,
   "id": "sharp-military",
   "metadata": {},
   "outputs": [],
   "source": [
    "def print_samples(samples: List[SolutionSample],\n",
    "                  max_len: int = None):\n",
    "    status_str = {OptimizationResultStatus.SUCCESS: 'SUCCESS',\n",
    "                  OptimizationResultStatus.FAILURE: 'FAILURE',\n",
    "                  OptimizationResultStatus.INFEASIBLE: 'INFEASIBLE'}\n",
    "    print('\\n'.join(['[{}]: fval: {:.4f}, probability: {:.2f} [{}]'.format(''.join(str(int(_)) for _ in e.x),\n",
    "                                                                           e.fval,\n",
    "                                                                           e.probability,\n",
    "                                                                           status_str[e.status])\n",
    "            for e in sorted(samples, key=lambda x: x.probability, reverse=True)][:max_len]))"
   ]
  },
  {
   "cell_type": "code",
   "execution_count": 402,
   "id": "political-dependence",
   "metadata": {},
   "outputs": [
    {
     "name": "stdout",
     "output_type": "stream",
     "text": [
      "[001110]: fval: 16.7689, probability: 0.86 [SUCCESS]\n",
      "[001010]: fval: 13.7760, probability: 0.07 [INFEASIBLE]\n",
      "[100110]: fval: 13.9533, probability: 0.02 [SUCCESS]\n",
      "[001111]: fval: 17.7017, probability: 0.01 [INFEASIBLE]\n",
      "[000110]: fval: 12.3804, probability: 0.01 [INFEASIBLE]\n",
      "[101010]: fval: 14.6260, probability: 0.01 [SUCCESS]\n",
      "[101110]: fval: 17.8927, probability: 0.01 [INFEASIBLE]\n",
      "[001011]: fval: 14.6710, probability: 0.00 [SUCCESS]\n",
      "[101111]: fval: 18.8590, probability: 0.00 [INFEASIBLE]\n",
      "[100010]: fval: 10.5943, probability: 0.00 [INFEASIBLE]\n"
     ]
    }
   ],
   "source": [
    "print_samples(ws_qaoa_result.samples, max_len=10)"
   ]
  },
  {
   "cell_type": "markdown",
   "source": [
    "We may also want to filter samples according to their status or to a certain percentile, i.e. with probability higher\n",
    "than some threshold."
   ],
   "metadata": {
    "collapsed": false,
    "pycharm": {
     "name": "#%% md\n"
    }
   }
  },
  {
   "cell_type": "code",
   "execution_count": 403,
   "outputs": [],
   "source": [
    "def get_filtered_samples(samples: List[SolutionSample],\n",
    "                         percentile: float = 0,\n",
    "                         allowed_status: Tuple[OptimizationResultStatus] = (OptimizationResultStatus.SUCCESS,)):\n",
    "    res = []\n",
    "    for s in samples:\n",
    "        if s.status in allowed_status and s.probability > percentile:\n",
    "            res.append(s)\n",
    "\n",
    "    return res"
   ],
   "metadata": {
    "collapsed": false,
    "pycharm": {
     "name": "#%%\n"
    }
   }
  },
  {
   "cell_type": "code",
   "execution_count": 404,
   "outputs": [
    {
     "name": "stdout",
     "output_type": "stream",
     "text": [
      "[001110]: fval: 16.7689, probability: 0.86 [SUCCESS]\n",
      "[100110]: fval: 13.9533, probability: 0.02 [SUCCESS]\n",
      "[101010]: fval: 14.6260, probability: 0.01 [SUCCESS]\n"
     ]
    }
   ],
   "source": [
    "filtered_samples = get_filtered_samples(ws_qaoa_result.samples,\n",
    "                                        percentile=0.005,\n",
    "                                        allowed_status=(OptimizationResultStatus.SUCCESS,))\n",
    "print_samples(filtered_samples, max_len=10)"
   ],
   "metadata": {
    "collapsed": false,
    "pycharm": {
     "name": "#%%\n"
    }
   }
  },
  {
   "cell_type": "markdown",
   "source": [
    "If we want to obtain a better perspective of the results, statistics is very helpful, both with respect to\n",
    "optimized function values and their respective probabilities. Thus, mean and standard deviation are the very basics for\n",
    "understanding the results."
   ],
   "metadata": {
    "collapsed": false,
    "pycharm": {
     "name": "#%% md\n"
    }
   }
  },
  {
   "cell_type": "code",
   "execution_count": 405,
   "outputs": [],
   "source": [
    "class PropertyChoice(Enum):\n",
    "    FVAL = 0\n",
    "    PROBABILITY = 1\n",
    "\n",
    "\n",
    "def get_samples_mean(samples: List[SolutionSample],\n",
    "                     property: PropertyChoice = PropertyChoice.FVAL):\n",
    "    return np.mean([(e.fval if property is PropertyChoice.FVAL else e.probability) for e in samples])\n",
    "\n",
    "\n",
    "def get_samples_std(samples: List[SolutionSample],\n",
    "                    property: PropertyChoice = PropertyChoice.FVAL):\n",
    "    return np.std([(e.fval if property is PropertyChoice.FVAL else e.probability) for e in samples])"
   ],
   "metadata": {
    "collapsed": false,
    "pycharm": {
     "name": "#%%\n"
    }
   }
  },
  {
   "cell_type": "code",
   "source": [
    "get_samples_mean(ws_qaoa_result.samples, property=PropertyChoice.FVAL)"
   ],
   "metadata": {
    "collapsed": false,
    "pycharm": {
     "name": "#%%\n"
    }
   },
   "execution_count": 406,
   "outputs": [
    {
     "data": {
      "text/plain": "14.135223479999999"
     },
     "execution_count": 406,
     "metadata": {},
     "output_type": "execute_result"
    }
   ]
  },
  {
   "cell_type": "code",
   "execution_count": 407,
   "outputs": [
    {
     "data": {
      "text/plain": "2.7504930010887656"
     },
     "execution_count": 407,
     "metadata": {},
     "output_type": "execute_result"
    }
   ],
   "source": [
    "get_samples_std(ws_qaoa_result.samples, property=PropertyChoice.FVAL)"
   ],
   "metadata": {
    "collapsed": false,
    "pycharm": {
     "name": "#%%\n"
    }
   }
  },
  {
   "cell_type": "markdown",
   "source": [
    "Finally, despite all number-crunching, visualization is usually the best early-analysis approach."
   ],
   "metadata": {
    "collapsed": false,
    "pycharm": {
     "name": "#%% md\n"
    }
   }
  },
  {
   "cell_type": "code",
   "execution_count": 408,
   "outputs": [],
   "source": [
    "def get_samples_property(samples: List[SolutionSample],\n",
    "                         property: PropertyChoice = PropertyChoice.PROBABILITY):\n",
    "    return {''.join(str(int(_)) for _ in s.x): (s.fval if property is PropertyChoice.FVAL else s.probability)\n",
    "            for s in samples}"
   ],
   "metadata": {
    "collapsed": false,
    "pycharm": {
     "name": "#%%\n"
    }
   }
  },
  {
   "cell_type": "code",
   "execution_count": 409,
   "outputs": [
    {
     "data": {
      "text/plain": "<Figure size 504x360 with 1 Axes>",
      "image/png": "[encoded data removed]"
     },
     "execution_count": 409,
     "metadata": {},
     "output_type": "execute_result"
    }
   ],
   "source": [
    "plot_histogram(get_samples_property(filtered_samples))"
   ],
   "metadata": {
    "collapsed": false,
    "pycharm": {
     "name": "#%%\n"
    }
   }
  },
  {
   "cell_type": "markdown",
   "source": [
    "Now let's get back to the previous section. Both results there appear to give the same result. However, when we look\n",
    "at the underlying probability distribution we observe that the warm-start QAOA has a much higher probability of\n",
    "sampling the optimal solution, providing us a good example of an importance of closer analysis."
   ],
   "metadata": {
    "collapsed": false,
    "pycharm": {
     "name": "#%% md\n"
    }
   }
  },
  {
   "cell_type": "code",
   "execution_count": 410,
   "outputs": [
    {
     "name": "stdout",
     "output_type": "stream",
     "text": [
      "[100110]: fval: 13.9533, probability: 0.05 [SUCCESS]\n",
      "[010011]: fval: 12.0132, probability: 0.04 [SUCCESS]\n",
      "[101001]: fval: 6.3134, probability: 0.03 [SUCCESS]\n",
      "[001101]: fval: 8.6508, probability: 0.03 [SUCCESS]\n",
      "[001110]: fval: 16.7689, probability: 0.03 [SUCCESS]\n",
      "[110001]: fval: 4.3107, probability: 0.03 [SUCCESS]\n",
      "[011100]: fval: 9.4159, probability: 0.02 [SUCCESS]\n",
      "[010110]: fval: 14.2345, probability: 0.02 [SUCCESS]\n",
      "[001011]: fval: 14.6710, probability: 0.02 [SUCCESS]\n",
      "[101010]: fval: 14.6260, probability: 0.02 [SUCCESS]\n"
     ]
    }
   ],
   "source": [
    "print_samples(get_filtered_samples(qaoa_result.samples), max_len=10)"
   ],
   "metadata": {
    "collapsed": false,
    "pycharm": {
     "name": "#%%\n"
    }
   }
  },
  {
   "cell_type": "code",
   "execution_count": 411,
   "outputs": [
    {
     "name": "stdout",
     "output_type": "stream",
     "text": [
      "[001110]: fval: 16.7689, probability: 0.86 [SUCCESS]\n",
      "[100110]: fval: 13.9533, probability: 0.02 [SUCCESS]\n",
      "[101010]: fval: 14.6260, probability: 0.01 [SUCCESS]\n",
      "[001011]: fval: 14.6710, probability: 0.00 [SUCCESS]\n",
      "[000111]: fval: 13.3494, probability: 0.00 [SUCCESS]\n",
      "[100011]: fval: 11.5590, probability: 0.00 [SUCCESS]\n"
     ]
    }
   ],
   "source": [
    "print_samples(get_filtered_samples(ws_qaoa_result.samples))"
   ],
   "metadata": {
    "collapsed": false,
    "pycharm": {
     "name": "#%%\n"
    }
   }
  },
  {
   "cell_type": "markdown",
   "id": "animal-grave",
   "metadata": {},
   "source": [
    "## Warm-start QAOA\n",
    "\n",
    "The warm-start features above are available in the Qiskit optimization module as a single optimizer named `WarmStartQAOAOptimizer` which is illustrated below. This solver will solve a QUBO with a warm-start QAOA. It computes $c^*$ by relaxing the problem. This behavior is controlled by setting `relax_for_pre_solver` to `True`."
   ]
  },
  {
   "cell_type": "code",
   "execution_count": 412,
   "id": "random-happiness",
   "metadata": {},
   "outputs": [],
   "source": [
    "from qiskit_optimization.algorithms import WarmStartQAOAOptimizer"
   ]
  },
  {
   "cell_type": "code",
   "execution_count": 413,
   "id": "tracked-encoding",
   "metadata": {},
   "outputs": [],
   "source": [
    "qaoa_mes = QAOA(quantum_instance=quantum_instance, initial_point=[0., 1.])\n",
    "ws_qaoa = WarmStartQAOAOptimizer(pre_solver=CplexOptimizer(), relax_for_pre_solver=True, \n",
    "                                 qaoa=qaoa_mes, epsilon=0.0)"
   ]
  },
  {
   "cell_type": "code",
   "execution_count": 414,
   "id": "insured-champagne",
   "metadata": {},
   "outputs": [
    {
     "data": {
      "text/plain": "optimal function value: 16.768932200000002\noptimal value: [0. 0. 1. 1. 1. 0.]\nstatus: SUCCESS"
     },
     "execution_count": 414,
     "metadata": {},
     "output_type": "execute_result"
    }
   ],
   "source": [
    "ws_result = ws_qaoa.solve(qubo)\n",
    "ws_result"
   ]
  },
  {
   "cell_type": "code",
   "execution_count": 415,
   "id": "grave-initial",
   "metadata": {},
   "outputs": [
    {
     "name": "stdout",
     "output_type": "stream",
     "text": [
      "[001110]: fval: 16.7689, probability: 0.86 [SUCCESS]\n",
      "[001010]: fval: 13.7760, probability: 0.07 [INFEASIBLE]\n",
      "[100110]: fval: 13.9533, probability: 0.02 [SUCCESS]\n",
      "[001111]: fval: 17.7017, probability: 0.01 [INFEASIBLE]\n",
      "[000110]: fval: 12.3804, probability: 0.01 [INFEASIBLE]\n",
      "[101010]: fval: 14.6260, probability: 0.01 [SUCCESS]\n",
      "[101110]: fval: 17.8927, probability: 0.01 [INFEASIBLE]\n",
      "[001011]: fval: 14.6710, probability: 0.00 [SUCCESS]\n",
      "[101111]: fval: 18.8590, probability: 0.00 [INFEASIBLE]\n",
      "[100010]: fval: 10.5943, probability: 0.00 [INFEASIBLE]\n",
      "[000111]: fval: 13.3494, probability: 0.00 [SUCCESS]\n",
      "[000010]: fval: 9.2952, probability: 0.00 [INFEASIBLE]\n",
      "[000011]: fval: 10.2263, probability: 0.00 [INFEASIBLE]\n",
      "[101011]: fval: 15.5545, probability: 0.00 [INFEASIBLE]\n",
      "[100011]: fval: 11.5590, probability: 0.00 [SUCCESS]\n",
      "[100111]: fval: 14.9558, probability: 0.00 [INFEASIBLE]\n"
     ]
    }
   ],
   "source": [
    "print_samples(ws_result.samples)"
   ]
  },
  {
   "cell_type": "code",
   "execution_count": 416,
   "id": "weird-dispatch",
   "metadata": {},
   "outputs": [
    {
     "ename": "ImportError",
     "evalue": "These functions  need ipywidgets. Run \"pip install ipywidgets\" before.",
     "output_type": "error",
     "traceback": [
      "\u001B[0;31m---------------------------------------------------------------------------\u001B[0m",
      "\u001B[0;31mModuleNotFoundError\u001B[0m                       Traceback (most recent call last)",
      "\u001B[0;32m~/.local/lib/python3.8/site-packages/qiskit/tools/jupyter/jupyter_magics.py\u001B[0m in \u001B[0;36m<module>\u001B[0;34m\u001B[0m\n\u001B[1;32m     24\u001B[0m \u001B[0;32mtry\u001B[0m\u001B[0;34m:\u001B[0m\u001B[0;34m\u001B[0m\u001B[0;34m\u001B[0m\u001B[0m\n\u001B[0;32m---> 25\u001B[0;31m     \u001B[0;32mimport\u001B[0m \u001B[0mipywidgets\u001B[0m \u001B[0;32mas\u001B[0m \u001B[0mwidgets\u001B[0m\u001B[0;34m\u001B[0m\u001B[0;34m\u001B[0m\u001B[0m\n\u001B[0m\u001B[1;32m     26\u001B[0m \u001B[0;32mexcept\u001B[0m \u001B[0mImportError\u001B[0m \u001B[0;32mas\u001B[0m \u001B[0mex\u001B[0m\u001B[0;34m:\u001B[0m\u001B[0;34m\u001B[0m\u001B[0;34m\u001B[0m\u001B[0m\n",
      "\u001B[0;31mModuleNotFoundError\u001B[0m: No module named 'ipywidgets'",
      "\nThe above exception was the direct cause of the following exception:\n",
      "\u001B[0;31mImportError\u001B[0m                               Traceback (most recent call last)",
      "\u001B[0;32m<ipython-input-416-a644e36caa10>\u001B[0m in \u001B[0;36m<module>\u001B[0;34m\u001B[0m\n\u001B[0;32m----> 1\u001B[0;31m \u001B[0;32mimport\u001B[0m \u001B[0mqiskit\u001B[0m\u001B[0;34m.\u001B[0m\u001B[0mtools\u001B[0m\u001B[0;34m.\u001B[0m\u001B[0mjupyter\u001B[0m\u001B[0;34m\u001B[0m\u001B[0;34m\u001B[0m\u001B[0m\n\u001B[0m\u001B[1;32m      2\u001B[0m \u001B[0mget_ipython\u001B[0m\u001B[0;34m(\u001B[0m\u001B[0;34m)\u001B[0m\u001B[0;34m.\u001B[0m\u001B[0mrun_line_magic\u001B[0m\u001B[0;34m(\u001B[0m\u001B[0;34m'qiskit_version_table'\u001B[0m\u001B[0;34m,\u001B[0m \u001B[0;34m''\u001B[0m\u001B[0;34m)\u001B[0m\u001B[0;34m\u001B[0m\u001B[0;34m\u001B[0m\u001B[0m\n\u001B[1;32m      3\u001B[0m \u001B[0mget_ipython\u001B[0m\u001B[0;34m(\u001B[0m\u001B[0;34m)\u001B[0m\u001B[0;34m.\u001B[0m\u001B[0mrun_line_magic\u001B[0m\u001B[0;34m(\u001B[0m\u001B[0;34m'qiskit_copyright'\u001B[0m\u001B[0;34m,\u001B[0m \u001B[0;34m''\u001B[0m\u001B[0;34m)\u001B[0m\u001B[0;34m\u001B[0m\u001B[0;34m\u001B[0m\u001B[0m\n\u001B[1;32m      4\u001B[0m \u001B[0;34m\u001B[0m\u001B[0m\n",
      "\u001B[0;32m~/.local/lib/python3.8/site-packages/qiskit/tools/jupyter/__init__.py\u001B[0m in \u001B[0;36m<module>\u001B[0;34m\u001B[0m\n\u001B[1;32m    103\u001B[0m \u001B[0;32mfrom\u001B[0m \u001B[0mqiskit\u001B[0m\u001B[0;34m.\u001B[0m\u001B[0mtest\u001B[0m\u001B[0;34m.\u001B[0m\u001B[0mmock\u001B[0m \u001B[0;32mimport\u001B[0m \u001B[0mFakeBackend\u001B[0m\u001B[0;34m\u001B[0m\u001B[0;34m\u001B[0m\u001B[0m\n\u001B[1;32m    104\u001B[0m \u001B[0;32mfrom\u001B[0m \u001B[0mqiskit\u001B[0m\u001B[0;34m.\u001B[0m\u001B[0mtools\u001B[0m\u001B[0;34m.\u001B[0m\u001B[0mvisualization\u001B[0m \u001B[0;32mimport\u001B[0m \u001B[0mHAS_MATPLOTLIB\u001B[0m\u001B[0;34m\u001B[0m\u001B[0;34m\u001B[0m\u001B[0m\n\u001B[0;32m--> 105\u001B[0;31m \u001B[0;32mfrom\u001B[0m \u001B[0;34m.\u001B[0m\u001B[0mjupyter_magics\u001B[0m \u001B[0;32mimport\u001B[0m \u001B[0;34m(\u001B[0m\u001B[0mProgressBarMagic\u001B[0m\u001B[0;34m,\u001B[0m \u001B[0mStatusMagic\u001B[0m\u001B[0;34m)\u001B[0m\u001B[0;34m\u001B[0m\u001B[0;34m\u001B[0m\u001B[0m\n\u001B[0m\u001B[1;32m    106\u001B[0m \u001B[0;32mfrom\u001B[0m \u001B[0;34m.\u001B[0m\u001B[0mprogressbar\u001B[0m \u001B[0;32mimport\u001B[0m \u001B[0mHTMLProgressBar\u001B[0m\u001B[0;34m\u001B[0m\u001B[0;34m\u001B[0m\u001B[0m\n\u001B[1;32m    107\u001B[0m \u001B[0;32mfrom\u001B[0m \u001B[0;34m.\u001B[0m\u001B[0mversion_table\u001B[0m \u001B[0;32mimport\u001B[0m \u001B[0mVersionTable\u001B[0m\u001B[0;34m\u001B[0m\u001B[0;34m\u001B[0m\u001B[0m\n",
      "\u001B[0;32m~/.local/lib/python3.8/site-packages/qiskit/tools/jupyter/jupyter_magics.py\u001B[0m in \u001B[0;36m<module>\u001B[0;34m\u001B[0m\n\u001B[1;32m     25\u001B[0m     \u001B[0;32mimport\u001B[0m \u001B[0mipywidgets\u001B[0m \u001B[0;32mas\u001B[0m \u001B[0mwidgets\u001B[0m\u001B[0;34m\u001B[0m\u001B[0;34m\u001B[0m\u001B[0m\n\u001B[1;32m     26\u001B[0m \u001B[0;32mexcept\u001B[0m \u001B[0mImportError\u001B[0m \u001B[0;32mas\u001B[0m \u001B[0mex\u001B[0m\u001B[0;34m:\u001B[0m\u001B[0;34m\u001B[0m\u001B[0;34m\u001B[0m\u001B[0m\n\u001B[0;32m---> 27\u001B[0;31m     raise ImportError('These functions  need ipywidgets. '\n\u001B[0m\u001B[1;32m     28\u001B[0m                       'Run \"pip install ipywidgets\" before.') from ex\n\u001B[1;32m     29\u001B[0m \u001B[0;32mimport\u001B[0m \u001B[0mqiskit\u001B[0m\u001B[0;34m\u001B[0m\u001B[0;34m\u001B[0m\u001B[0m\n",
      "\u001B[0;31mImportError\u001B[0m: These functions  need ipywidgets. Run \"pip install ipywidgets\" before."
     ]
    }
   ],
   "source": [
    "import qiskit.tools.jupyter\n",
    "%qiskit_version_table\n",
    "%qiskit_copyright"
   ]
  },
  {
   "cell_type": "code",
   "execution_count": null,
   "id": "ordinary-samuel",
   "metadata": {},
   "outputs": [],
   "source": []
  }
 ],
 "metadata": {
  "kernelspec": {
   "display_name": "Python 3",
   "language": "python",
   "name": "python3"
  },
  "language_info": {
   "codemirror_mode": {
    "name": "ipython",
    "version": 3
   },
   "file_extension": ".py",
   "mimetype": "text/x-python",
   "name": "python",
   "nbconvert_exporter": "python",
   "pygments_lexer": "ipython3",
   "version": "3.8.5"
  }
 },
 "nbformat": 4,
 "nbformat_minor": 5
}